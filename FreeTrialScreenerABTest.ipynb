{
 "cells": [
  {
   "cell_type": "markdown",
   "id": "0d1819fe-8687-4dbe-bf41-6c240e0ed031",
   "metadata": {},
   "source": [
    "# Free Trial Screener Project \n",
    "### AB Test in Python - Final Project for Udacity A/B Testing Course "
   ]
  },
  {
   "cell_type": "code",
   "execution_count": 21,
   "id": "69a11906-6116-4b66-abda-62d0ff8e2d75",
   "metadata": {},
   "outputs": [],
   "source": [
    "import math as mt\n",
    "import numpy as np\n",
    "import pandas as pd\n",
    "import matplotlib.pyplot as plt\n",
    "from scipy.stats import norm"
   ]
  },
  {
   "cell_type": "markdown",
   "id": "3a7000fd-bdc7-4d59-b31f-b502d023ce88",
   "metadata": {},
   "source": [
    "## Executive Summary\n",
    "### Objective\n",
    "\n",
    "The objective of this A/B test was to evaluate the impact of an additional step in the Udacity course enrollment process, where students are asked about their available time commitment before starting a free trial. The goal was to determine whether this intervention could set clearer expectations for students, thereby reducing the number of students who cancel the free trial due to insufficient time, without significantly affecting the overall course completion rates.\n",
    "\n",
    "### Key Results \n",
    "\n",
    "A practically significant decrease in Gross Conversion was observed, indicating that fewer students enrolled in the course after implementing the filter. However, there was no significant difference in Net Conversion, meaning that the reduction in enrollments did not lead to an increase in the number of students who stayed beyond the 14-day free trial period to trigger payment.\n",
    "\n",
    "### Recommendations \n",
    "The free trial screener is not recommended given that it did not achieve the goal of increasing the number of students who become paid\n",
    "users. "
   ]
  },
  {
   "cell_type": "markdown",
   "id": "20f6a6d4-b82d-4f7e-b6e0-47b764b7f030",
   "metadata": {},
   "source": [
    "## Background and Objective\n",
    "### Context\n",
    "At the time of this experiment, Udacity courses currently have two options on the course overview page: \"start free trial\", and \"access course materials\". If the student clicks \"start free trial\", they will be asked to enter their credit card information, and then they will be enrolled in a free trial for the paid version of the course. After 14 days, they will automatically be charged unless they cancel first. If the student clicks \"access course materials\", they will be able to view the videos and take the quizzes for free, but they will not receive coaching support or a verified certificate, and they will not submit their final project for feedback.\n",
    "\n",
    "In the experiment, Udacity tested a change where if the student clicked \"start free trial\", they were asked how much time they had available to devote to the course. If the student indicated 5 or more hours per week, they would be taken through the checkout process as usual. If they indicated fewer than 5 hours per week, a message would appear indicating that Udacity courses usually require a greater time commitment for successful completion, and suggesting that the student might like to access the course materials for free. At this point, the student would have the option to continue enrolling in the free trial, or access the course materials for free instead. This screenshot shows what the experiment looks like.\n",
    "\n",
    "The hypothesis was that this might set clearer expectations for students upfront, thus reducing the number of frustrated students who left the free trial because they didn't have enough time—without significantly reducing the number of students to continue past the free trial and eventually complete the course. If this hypothesis held true, Udacity could improve the overall student experience and improve coaches' capacity to support students who are likely to complete the course.\n",
    "\n",
    "The unit of diversion is a cookie, although if the student enrolls in the free trial, they are tracked by user-id from that point forward. The same user-id cannot enroll in the free trial twice. For users that do not enroll, their user-id is not tracked in the experiment, even if they were signed in when they visited the course overview page.\n",
    "\n",
    "\n",
    "### Hypothesis \n",
    "\n",
    "The hypothesis was that by introducing a time commitment question during the enrollment process, students would have a clearer understanding of the time required to succeed in a Udacity course. This, in turn, would reduce the number of students who left the free trial due to insufficient time, while not significantly reducing the number of students who proceed beyond the free trial and eventually complete the course.\n",
    "\n",
    "### Goals\n",
    "* To reduce the number of students who cancel their free trial due to an underestimation of the time required for the course.\n",
    "* To improve the overall student experience and better allocate coaching resources to students more likely to complete the course by setting clearer expectations for students upfront."
   ]
  },
  {
   "cell_type": "markdown",
   "id": "1d616986-68ca-48eb-b08b-0f0c880e2430",
   "metadata": {},
   "source": [
    " ## Test Design and Methodology\n",
    " ### Available Data\n",
    " Data provided for the study:\n",
    " \n",
    "* __Number of cookies__: That is, number of unique cookies to view the course overview page. (dmin=3000)\n",
    "* __Number of user-ids__: That is, number of users who enroll in the free trial. (dmin=50)\n",
    "* __Number of clicks__: That is, number of unique cookies to click the \"Start free trial\" button (which happens before the free trial screener is trigger). (dmin=240)\n",
    "* __Click-through-probability__: That is, number of unique cookies to click the \"Start free trial\" button divided by number of unique cookies to view the course overview page. (dmin=0.01)\n",
    "* __Gross conversion__: That is, number of user-ids to complete checkout and enroll in the free trial divided by number of unique cookies to click the \"Start free trial\" button. (dmin= 0.01)\n",
    "* __Retention__: That is, number of user-ids to remain enrolled past the 14-day boundary (and thus make at least one payment) divided by number of user-ids to complete checkout. (dmin=0.01)\n",
    "* __Net conversion__: That is, number of user-ids to remain enrolled past the 14-day boundary (and thus make at least one payment) divided by the number of unique cookies to click the \"Start free trial\" button. (dmin= 0.0075)\n",
    "\n",
    "\n",
    "The practical significance boundary for each metric, that is, the difference that would have to be observed before that was a meaningful change for the business, is given in parentheses. All practical significance boundaries are given as absolute changes.\n",
    "\n",
    "Any place \"unique cookies\" are mentioned, the uniqueness is determined by day. (That is, the same cookie visiting on different days would be counted twice.) User-ids are automatically unique since the site does not allow the same user-id to enroll twice.\n",
    "\n",
    "\n",
    " "
   ]
  },
  {
   "cell_type": "markdown",
   "id": "8278ff65-5b1f-4de0-93a8-508719393f37",
   "metadata": {},
   "source": [
    "Udacity has provided estimates of baseline values, offering an understanding of how these metrics behave prior to the study: \n",
    "\n",
    "* **Unique cookies to view course overview page per day:** 40000\n",
    "* **Unique cookies to click \"Start free trial\" per day:** 3200\n",
    "* **Enrollments per day:** 660\n",
    "* **Click-through-probability on \"Start free trial\":** 0.08\n",
    "* **Probability of enrolling, given click:** 0.20625\n",
    "* **Probability of payment, given enroll:** 0.53\n",
    "* **Probability of payment, given click:** 0.1093125\n"
   ]
  },
  {
   "cell_type": "markdown",
   "id": "77cd4a1f-7307-445a-90eb-1e28c2dd8807",
   "metadata": {},
   "source": [
    " ### Metric Choice \n",
    " \n",
    " Based on the provided data, we can pick our evaluation metrics and invariate metrics. \n",
    " \n",
    "* __Invariate Metrics__: We will choose metrics that we don't expect to change across our experiment and control groups. We will do \"sanity checks\" on these metrics to make sure that our experiment was run properly and ensure that any observed differences in the evaluation metrics are not due to external factors or changes in traffic patterns.\n",
    "\n",
    "* __Evaluation Metrics__: These are the metrics we are most interested about, and tells us about differences that may occur between the experiment and control groups. We will use the 'd min'(practical significance boundary), the minimum change which is practically significant to the business, to help us determine when metrics are not only statistically signifiant but also practically significant to the business."
   ]
  },
  {
   "cell_type": "markdown",
   "id": "5640b567-e9e3-4f54-b800-81eef5defeea",
   "metadata": {},
   "source": [
    "#### Invariate Metrics\n",
    "\n",
    " \n",
    "* __Number of cookies__: This metric represents the total number of unique visitors (cookies) who viewed the course overview page. Since it reflects overall traffic to the page, we do not expect this number to differ between the control and experiment groups.\n",
    "* __Number of clicks__: This metric counts the number of unique cookies that clicked the \"Start free trial\" button before the free trial screener is triggered. Since this is an action taken before the experiment’s intervention, we don't anticipate a difference between the control and experiment groups.\n",
    "* __Click-through-probability__: This metric is the ratio of unique cookies that clicked the \"Start free trial\" button to the number of unique cookies that viewed the course overview page. Since it's a measure of initial interest in the free trial, which occurs before the experiment's treatment, it should remain invariant across the experiment and control groups. It acts as a sanity check to confirm that user interest in the free trial is consistent.\n",
    "\n",
    "#### Evaluation Metrics\n",
    "* __Gross conversion__:  Gross conversion is defined as the number of user-ids that complete the checkout process and enroll in the free trial, divided by the number of unique cookies that clicked the \"Start free trial\" button. This metric helps access whether the intervention impacts the amount of users that enroll in the free trial. \n",
    "\n",
    "* __Retention__: Retention measures the proportion of user-ids that remain enrolled after the 14-day trial period, indicating a successful transition from free trial to paying customer. This metric directly reflects the effectiveness of the new intervention in converting trials to enrollments. \n",
    "* __Net conversion__: Net conversion is the proportion of unique cookies that click the \"Start free trial\" button and then remain enrolled after the 14-day trial period, becoming paying customers. This metric captures the overall effectiveness of the funnel from interest (click) to conversion (payment), taking into account both the initial enrollment decision and the subsequent retention. It helps determine the overall effect of the intervention on long-term commitment."
   ]
  },
  {
   "cell_type": "markdown",
   "id": "eb8aaf1f-cf14-4b3b-b2f4-df1357dad4ad",
   "metadata": {
    "tags": []
   },
   "source": [
    " ### Measuring Variability\n",
    " \n",
    "In order to determine our sample size, design our experiment, and analyze the data to assess statistical significance, we need to estimate the standard deviation.\n",
    "\n",
    "\n",
    "We can assume the metrics to be binomically distributed with a probability of p hat and use the formula for the standard deviation of a binomial proportion to analytically estimate the standard deviation: \n",
    "\n",
    "$$\n",
    "\\sigma = \\sqrt{\\frac{\\hat{p} \\cdot (1 - \\hat{p})}{n}}\n",
    "$$\n",
    "\n",
    "\n",
    "where:\n",
    "* p hat is the probability of success (e.g., the conversion rate).\n",
    "* n is the sample size (e.g., the number of trials or observations).\n",
    "\n",
    "\n",
    "__Keep in mind:__\n",
    "\n",
    "The assumption that a metric is binomially distributed and that we can use the standard binomial formula for variance is only valid when the unit of diversion is the same as the unit of analysis. This is because, in such cases, each \"trial\" in the experiment is independent and identically distributed, which is a key assumption of the binomial distribution.\n",
    "\n",
    "\n",
    "__Unit of Diversion__: This refers to the unit at which the experiment is randomized or \"diverted\" into different groups (e.g., unique cookies in your case).\n",
    "\n",
    "__Unit of Analysis__: This refers to the unit used in the metric's denominator (e.g., number of unique cookies, number of clicks, etc.).\n",
    "\n",
    "In cases where the unit of diversion and unit of analysis differ, it’s advisable to estimate the variance empirically rather than relying solely on the analytic (binomial) estimate. \n"
   ]
  },
  {
   "cell_type": "code",
   "execution_count": 22,
   "id": "ec2cce6e-3fda-445c-bd3e-22e7d91047a2",
   "metadata": {},
   "outputs": [],
   "source": [
    "def standard_d (p, n, round_d = 4):\n",
    "    return round(np.sqrt(p * (1 - p)/n),round_d)"
   ]
  },
  {
   "cell_type": "code",
   "execution_count": 23,
   "id": "57868572-2a7b-4fb0-91e5-cd987e6c6c3c",
   "metadata": {},
   "outputs": [],
   "source": [
    "baseline = {\"Cookies\":40000,\n",
    "            \"Clicks\":3200,\n",
    "            \"Enrollments\":660,\n",
    "            \"CTP\":0.08,\n",
    "            \"GConversion\":0.20625,\n",
    "            \"Retention\":0.53,\n",
    "            \"NConversion\":0.109313}"
   ]
  },
  {
   "cell_type": "markdown",
   "id": "47577626-6965-41da-ba2c-dd66d2dd86c7",
   "metadata": {},
   "source": [
    "Scaling the baseline estimates of count metrics with the sample size we specified, from 40000 unique cookies to visit the course overview page per day, to 5000."
   ]
  },
  {
   "cell_type": "code",
   "execution_count": 24,
   "id": "0427691f-0678-4c93-b157-68d9e5af8a78",
   "metadata": {},
   "outputs": [
    {
     "data": {
      "text/plain": [
       "{'Cookies': 5000,\n",
       " 'Clicks': 400.0,\n",
       " 'Enrollments': 82.5,\n",
       " 'CTP': 0.08,\n",
       " 'GConversion': 0.20625,\n",
       " 'Retention': 0.53,\n",
       " 'NConversion': 0.109313}"
      ]
     },
     "execution_count": 24,
     "metadata": {},
     "output_type": "execute_result"
    }
   ],
   "source": [
    "#Scale The counts estimates\n",
    "baseline[\"Cookies\"] = 5000\n",
    "baseline[\"Clicks\"]=baseline[\"Clicks\"]*(5000/40000)\n",
    "baseline[\"Enrollments\"]=baseline[\"Enrollments\"]*(5000/40000)\n",
    "baseline"
   ]
  },
  {
   "cell_type": "code",
   "execution_count": 25,
   "id": "e1a714b5-a484-4a8d-83ee-9826e0142ac2",
   "metadata": {},
   "outputs": [
    {
     "data": {
      "text/plain": [
       "0.0202"
      ]
     },
     "execution_count": 25,
     "metadata": {},
     "output_type": "execute_result"
    }
   ],
   "source": [
    "# Gross Conversion SD \n",
    "GC={}\n",
    "GC[\"d_min\"]=0.01\n",
    "GC[\"p\"]=baseline[\"GConversion\"]\n",
    "GC[\"n\"]=baseline[\"Clicks\"]\n",
    "GC[\"sd\"] = standard_d(GC[\"p\"], GC[\"n\"], round_d = 4)\n",
    "GC[\"sd\"]"
   ]
  },
  {
   "cell_type": "code",
   "execution_count": 26,
   "id": "a1037cde-de62-4c9d-84e6-ebb5fdac477f",
   "metadata": {},
   "outputs": [
    {
     "data": {
      "text/plain": [
       "0.0549"
      ]
     },
     "execution_count": 26,
     "metadata": {},
     "output_type": "execute_result"
    }
   ],
   "source": [
    "# Retention SD\n",
    "Rt={}\n",
    "Rt[\"d_min\"]=0.01\n",
    "Rt[\"p\"]=baseline[\"Retention\"]\n",
    "Rt[\"n\"]=baseline[\"Enrollments\"]\n",
    "Rt[\"sd\"]=standard_d(Rt[\"p\"], Rt[\"n\"], round_d = 4)\n",
    "Rt[\"sd\"]"
   ]
  },
  {
   "cell_type": "markdown",
   "id": "4193bc19-4354-41a1-b2ea-b20a8153be6c",
   "metadata": {},
   "source": [
    "* Among our three evaluation metrics, retention is the metric where the unit of diversion is not the same as the unit of analysis. Therefore, we would want to collect an empirical estimate of the variability if we had time. "
   ]
  },
  {
   "cell_type": "code",
   "execution_count": 27,
   "id": "5f32131b-b6cf-4c34-b086-7b02ed80a1c0",
   "metadata": {},
   "outputs": [
    {
     "data": {
      "text/plain": [
       "0.0156"
      ]
     },
     "execution_count": 27,
     "metadata": {},
     "output_type": "execute_result"
    }
   ],
   "source": [
    "#Net Conversion SD\n",
    "NC={}\n",
    "NC[\"d_min\"]=0.0075\n",
    "NC[\"p\"]=baseline[\"NConversion\"]\n",
    "NC[\"n\"]=baseline[\"Clicks\"]\n",
    "NC[\"sd\"]=standard_d(NC[\"p\"], NC[\"n\"], round_d = 4)\n",
    "NC[\"sd\"]"
   ]
  },
  {
   "cell_type": "markdown",
   "id": "351a26af-6ec5-4533-a41b-34edba46ae53",
   "metadata": {},
   "source": [
    "## Sizing \n",
    "\n",
    "To ensure our experiment has sufficient statistical power and significance, we need to estimate the minimum number of samples required.\n",
    "\n",
    "Given a significance level (α) of 0.05 and desired power (1−β) of 0.8, we can calculate the total number of pageviews (i.e., unique cookies viewing the course overview page) needed for the experiment. This total will be split between the control and experimental groups. We can perform this calculation using an online calculator or by applying the appropriate formula directly.\n",
    "\n",
    "Online Calculator:\n",
    "\n",
    "https://www.evanmiller.org/ab-testing/sample-size.html"
   ]
  },
  {
   "cell_type": "markdown",
   "id": "2af1b247-c5a3-4864-9503-c320b7231754",
   "metadata": {},
   "source": [
    "#### Calculations"
   ]
  },
  {
   "cell_type": "code",
   "execution_count": 28,
   "id": "33b796dd-57f2-43bc-b476-8f82e743e4f9",
   "metadata": {},
   "outputs": [],
   "source": [
    "\n",
    "def get_z_score(alpha):\n",
    "    return norm.ppf(alpha)\n",
    "\n",
    "def get_sds(p,d):\n",
    "    sd1 = np.sqrt(p * (1-p) + p * (1-p))\n",
    "    sd2 = np.sqrt(p *(1-p) + (p + d)* (1-(p+d)))\n",
    "    sds = [sd1, sd2]\n",
    "    return sds\n",
    "\n",
    "def get_sampSize(sds,alpha,beta,d):\n",
    "    n = pow ((get_z_score(1 - alpha / 2) * sds[0] + get_z_score (1 - beta) * sds[1]),2) / pow(d,2)\n",
    "    return n"
   ]
  },
  {
   "cell_type": "code",
   "execution_count": 29,
   "id": "2fde3c35-fa4b-49bc-a77a-6a64788bc998",
   "metadata": {},
   "outputs": [
    {
     "data": {
      "text/plain": [
       "645875"
      ]
     },
     "execution_count": 29,
     "metadata": {},
     "output_type": "execute_result"
    }
   ],
   "source": [
    "GC[\"SampSize\"]=round(get_sampSize(get_sds(GC[\"p\"],GC[\"d_min\"]),0.05,0.2,GC[\"d_min\"]))\n",
    "# pageview for two groups\n",
    "GC[\"SampSize_total\"]=round(GC[\"SampSize\"]/ 0.08 *2)\n",
    "GC[\"SampSize_total\"]"
   ]
  },
  {
   "cell_type": "code",
   "execution_count": 30,
   "id": "5cb4814c-4227-4581-be06-ca4404dfbb6f",
   "metadata": {},
   "outputs": [
    {
     "data": {
      "text/plain": [
       "4737818"
      ]
     },
     "execution_count": 30,
     "metadata": {},
     "output_type": "execute_result"
    }
   ],
   "source": [
    "# Getting an integer value \n",
    "Rt[\"SampSize\"]=round(get_sampSize(get_sds(Rt[\"p\"],Rt[\"d_min\"]),0.05,0.2,Rt[\"d_min\"]))\n",
    "Rt[\"SampSize\"]\n",
    "# convert enrollment per group to the total number of clicks and to page views\n",
    "Rt[\"SampSize_total\"] = round(Rt[\"SampSize\"] / 0.20625 / 0.08 * 2)\n",
    "Rt[\"SampSize_total\"]"
   ]
  },
  {
   "cell_type": "code",
   "execution_count": 31,
   "id": "43c7c1eb-d6a6-4b6b-8b36-bf476593bd04",
   "metadata": {},
   "outputs": [
    {
     "data": {
      "text/plain": [
       "685325.0"
      ]
     },
     "execution_count": 31,
     "metadata": {},
     "output_type": "execute_result"
    }
   ],
   "source": [
    "NC[\"SampSize\"]=round(get_sampSize(get_sds(NC[\"p\"],NC[\"d_min\"]),0.05,0.2,NC[\"d_min\"]))\n",
    "NC[\"SampSize_total\"] = NC[\"SampSize\"] * 2 / (3200/40000)\n",
    "NC[\"SampSize_total\"]"
   ]
  },
  {
   "cell_type": "markdown",
   "id": "4f09c7da-0ca9-4bb1-bc03-0413e2425a8a",
   "metadata": {},
   "source": [
    "### Final Choice \n",
    "When designing experiments, we must be mindful of the duration and exposure. Given that we receive approximately 40,000 pageviews per day, obtaining over 4 million pageviews for this experiment is not feasible.\n",
    "\n",
    "Therefore, we will exclude Retention from our analysis and focuse solely on Gross Conversion and Net Conversion for this experiment. After evaluating the results, we may consider conducting a follow-up experiment to assess Retention if needed. \n",
    "\n",
    "For now, the required number of pageviews is down to 685,325. With 100% diversion, the experiment will take about 18 days. Considering the potential for other simultaneous experiments, we may opt for a 70% diversion, which would extend the experiment duration to approximately 25 days. \n",
    "\n"
   ]
  },
  {
   "cell_type": "markdown",
   "id": "7b6e300c-ed5a-4cd4-b503-08878f814779",
   "metadata": {},
   "source": [
    " ## Data Analysis"
   ]
  },
  {
   "cell_type": "markdown",
   "id": "71fc40ef-77ba-4e7f-91f5-0b6e291a35e2",
   "metadata": {},
   "source": [
    "### Importing Data "
   ]
  },
  {
   "cell_type": "code",
   "execution_count": 32,
   "id": "d2040263-8489-4459-b5f8-0b4731db4e63",
   "metadata": {},
   "outputs": [
    {
     "name": "stdout",
     "output_type": "stream",
     "text": [
      "<class 'pandas.core.frame.DataFrame'>\n",
      "RangeIndex: 37 entries, 0 to 36\n",
      "Data columns (total 5 columns):\n",
      " #   Column       Non-Null Count  Dtype  \n",
      "---  ------       --------------  -----  \n",
      " 0   Date         37 non-null     object \n",
      " 1   Pageviews    37 non-null     int64  \n",
      " 2   Clicks       37 non-null     int64  \n",
      " 3   Enrollments  23 non-null     float64\n",
      " 4   Payments     23 non-null     float64\n",
      "dtypes: float64(2), int64(2), object(1)\n",
      "memory usage: 1.6+ KB\n"
     ]
    }
   ],
   "source": [
    "experiment = pd.read_csv(\"./Experiment.csv\")\n",
    "control = pd.read_csv(\"./Control.csv\")\n",
    "experiment.head()\n",
    "control.head()\n",
    "experiment.info()"
   ]
  },
  {
   "cell_type": "code",
   "execution_count": 33,
   "id": "4e875edf-d83a-4ed7-8949-03c3a96c943a",
   "metadata": {},
   "outputs": [
    {
     "data": {
      "image/png": "[encoded data removed]",
      "text/plain": [
       "<Figure size 640x480 with 1 Axes>"
      ]
     },
     "metadata": {},
     "output_type": "display_data"
    }
   ],
   "source": [
    "plt.hist(x = experiment.Pageviews,\n",
    "         bins = 15,\n",
    "         density = 1,\n",
    "         facecolor = 'green',\n",
    "         alpha = 0.5,\n",
    "         label='Experiment Group')\n",
    "plt.hist(x = control.Pageviews,\n",
    "         bins = 15,\n",
    "         density = 1,\n",
    "         facecolor = 'orange',\n",
    "         alpha = 0.5,\n",
    "         label='Control Group')\n",
    "\n",
    "plt.title('Distribution of Pageviews for Experiment and Control Groups')\n",
    "plt.xlabel('Pageviews')\n",
    "plt.ylabel('Density')\n",
    "plt.legend()  # Adds a legend to differentiate the two groups\n",
    "plt.show()"
   ]
  },
  {
   "cell_type": "markdown",
   "id": "587d1039-6374-45f1-ab61-cb7c74f9eb02",
   "metadata": {},
   "source": [
    "### Sanity Checks\n",
    "\n",
    "\n",
    "__The 3 Invariate Metrics we had choosen for our Sanity Checks:__\n",
    "\n",
    " \n",
    "* __Number of cookies__: This metric represents the total number of unique visitors (cookies) who viewed the course overview page. Since it reflects overall traffic to the page, we do not expect this number to differ between the control and experiment groups.\n",
    "* __Number of clicks__: This metric counts the number of unique cookies that clicked the \"Start free trial\" button before the free trial screener is triggered. Since this is an action taken before the experiment’s intervention, we don't anticipate a difference between the control and experiment groups.\n",
    "* __Click-through-probability__: This metric is the ratio of unique cookies that clicked the \"Start free trial\" button to the number of unique cookies that viewed the course overview page. Since it's a measure of initial interest in the free trial, which occurs before the experiment's treatment, it should remain invariant across the experiment and control groups. It acts as a sanity check to confirm that user interest in the free trial is consistent."
   ]
  },
  {
   "cell_type": "code",
   "execution_count": 43,
   "id": "68e14724-5274-4561-b323-c9b82cec9d85",
   "metadata": {},
   "outputs": [
    {
     "name": "stdout",
     "output_type": "stream",
     "text": [
      "number of pageviews in the control group : 345543\n",
      "number of Pageviews in the experiment group : 344660\n",
      "number of pageviews in total : 690203\n",
      "The confidence interval is between 0.4988 and 0.5012 p_hat is  0.5006\n"
     ]
    }
   ],
   "source": [
    "control_total_page = control.Pageviews.sum()\n",
    "experiment_total_page = experiment.Pageviews.sum()\n",
    "page_total = control_total_page + experiment_total_page\n",
    "print(\"number of pageviews in the control group :\", control_total_page)\n",
    "print(\"number of Pageviews in the experiment group :\" , experiment_total_page )\n",
    "print(\"number of pageviews in total :\", page_total) # total\n",
    "# calculate the confidence interval \n",
    "p=0.5\n",
    "alpha=0.05\n",
    "p_hat=round(control_total_page/(page_total),4)\n",
    "sd = np.sqrt(p * (1-p)/ (page_total))\n",
    "ME=round(get_z_score(1-(alpha/2))*sd,4)\n",
    "print (\"The confidence interval is between\",p-ME,\"and\",p+ME,\"p_hat is \",p_hat)"
   ]
  },
  {
   "cell_type": "code",
   "execution_count": 36,
   "id": "15a16d4f-6cb9-4633-a71f-5cdc18559c29",
   "metadata": {},
   "outputs": [
    {
     "name": "stdout",
     "output_type": "stream",
     "text": [
      "The confidence interval is between 0.4959 and 0.5041 and p_hat is 0.5005\n"
     ]
    }
   ],
   "source": [
    "control_total_clicks = control.Clicks.sum()\n",
    "experiment_total_clicks = experiment.Clicks.sum()\n",
    "clicks_total = control_total_clicks + experiment_total_clicks\n",
    "\n",
    "p_hat=round(control_total_clicks / clicks_total,4)\n",
    "sd= np.sqrt(p*(1-p)/clicks_total)\n",
    "ME=round(get_z_score(1-(alpha/2))*sd,4)\n",
    "print (\"The confidence interval is between\",p-ME,\"and\",p+ME,\"and p_hat is\",p_hat)"
   ]
  },
  {
   "cell_type": "code",
   "execution_count": 37,
   "id": "e7148f6a-f36d-4847-b2a6-a261ae1e114b",
   "metadata": {},
   "outputs": [
    {
     "name": "stdout",
     "output_type": "stream",
     "text": [
      "The confidence interval is between -0.5618 and 0.5618 and d_hat is 0.0001\n"
     ]
    }
   ],
   "source": [
    "control_ctp = control_total_clicks / control_total_page\n",
    "experiment_ctp = experiment_total_clicks / experiment_total_page\n",
    "d_hat = round(experiment_ctp - control_ctp,4)\n",
    "p_pooled = clicks_total / page_total\n",
    "sd_pooled = np.sqrt(p_pooled * (1 - p_pooled * (1 / control_total_page + 1 / experiment_total_page)))\n",
    "ME=round(get_z_score(1-(alpha/2))*sd_pooled,4)\n",
    "print (\"The confidence interval is between\",0-ME,\"and\",0+ME,\"and d_hat is\",d_hat)"
   ]
  },
  {
   "cell_type": "markdown",
   "id": "83f9b26e-ec38-41cf-b422-9845df9e541a",
   "metadata": {},
   "source": [
    "Three observed values fall within the confidence interval and thus all passed the sanity check."
   ]
  },
  {
   "cell_type": "markdown",
   "id": "9fc16406-e260-4218-8e0a-35a34ba4aec0",
   "metadata": {},
   "source": [
    "### Effect Size "
   ]
  },
  {
   "cell_type": "code",
   "execution_count": 38,
   "id": "cdaef615-7e6b-4936-91a7-cd47d92e5fee",
   "metadata": {},
   "outputs": [
    {
     "name": "stdout",
     "output_type": "stream",
     "text": [
      "The change due to the experiment is -0.0206\n",
      "Confidence Interval: [ -0.0292 , -0.012 ]\n",
      "The change is statistically significant if the CI doesn't include 0. In that case, it is practically significant if -0.01 is not in the CI as well.\n"
     ]
    }
   ],
   "source": [
    "# Count the total clicks from complete records only \n",
    "clicks_cont=control[\"Clicks\"].loc[control[\"Enrollments\"].notnull()].sum()\n",
    "clicks_exp=experiment[\"Clicks\"].loc[experiment[\"Enrollments\"].notnull()].sum()\n",
    "\n",
    "#Gross Conversion - number of enrollments divided by number of clicks\n",
    "enrollments_cont=control[\"Enrollments\"].sum()\n",
    "enrollments_exp=experiment[\"Enrollments\"].sum()\n",
    "\n",
    "# Check difference between GC_cont and GC_exp groups\n",
    "GC_cont=enrollments_cont/clicks_cont\n",
    "GC_exp=enrollments_exp/clicks_exp\n",
    "GC_pooled=(enrollments_cont + enrollments_exp)/(clicks_cont + clicks_exp)\n",
    "GC_sd_pooled= np.sqrt(GC_pooled*(1-GC_pooled)*(1/clicks_cont+1/clicks_exp))\n",
    "GC_ME=round(get_z_score(1-alpha/2)*GC_sd_pooled,4)\n",
    "GC_diff=round(GC_exp - GC_cont, 4)\n",
    "print(\"The change due to the experiment is\",GC_diff)\n",
    "print(\"Confidence Interval: [\",GC_diff-GC_ME,\",\",GC_diff+GC_ME,\"]\")\n",
    "print (\"The change is statistically significant if the CI doesn't include 0. In that case, it is practically significant if\",-GC[\"d_min\"],\"is not in the CI as well.\")"
   ]
  },
  {
   "cell_type": "code",
   "execution_count": 39,
   "id": "f89aba2a-373b-4953-9c2a-d1d9024babd9",
   "metadata": {},
   "outputs": [
    {
     "name": "stdout",
     "output_type": "stream",
     "text": [
      "The change due to the experiment is -0.0049\n",
      "Confidence Interval: [ -0.0116 , 0.0018000000000000004 ]\n",
      "The change is statistically significant if the CI doesn't include 0. In that case, it is practically significant if 0.0075 is not in the CI as well.\n"
     ]
    }
   ],
   "source": [
    "#Net Conversion - number of payments divided by number of clicks\n",
    "payments_cont=control[\"Payments\"].sum()\n",
    "payments_exp=experiment[\"Payments\"].sum()\n",
    "\n",
    "NC_cont=payments_cont/clicks_cont\n",
    "NC_exp=payments_exp/clicks_exp\n",
    "NC_pooled=(payments_cont+payments_exp)/(clicks_cont+clicks_exp)\n",
    "NC_sd_pooled=mt.sqrt(NC_pooled*(1-NC_pooled)*(1/clicks_cont+1/clicks_exp))\n",
    "NC_ME=round(get_z_score(1-alpha/2)*NC_sd_pooled,4)\n",
    "NC_diff=round(NC_exp-NC_cont,4)\n",
    "print(\"The change due to the experiment is\",NC_diff)\n",
    "print(\"Confidence Interval: [\",NC_diff-NC_ME,\",\",NC_diff+NC_ME,\"]\")\n",
    "print (\"The change is statistically significant if the CI doesn't include 0. In that case, it is practically significant if\",NC[\"d_min\"],\"is not in the CI as well.\")"
   ]
  },
  {
   "cell_type": "code",
   "execution_count": 40,
   "id": "d45e9033-9fdc-4543-a791-bd7fc86da3ee",
   "metadata": {},
   "outputs": [
    {
     "name": "stdout",
     "output_type": "stream",
     "text": [
      "No. of cases for GC: 4 \n",
      " No. of cases for NC: 10 \n",
      " No. of total cases 23\n"
     ]
    }
   ],
   "source": [
    "# Prepare the dataset \n",
    "full = control.join(other=experiment, how = \"inner\", lsuffix= \"_cont\", rsuffix=\"_exp\")\n",
    "# full.head()\n",
    "# filter the complete data records\n",
    "full = full.loc[full[\"Enrollments_cont\"].notnull()]\n",
    "# full.count()\n",
    "# assign the label=1 if experiment value is greater than the control vale \n",
    "cont_x = full[\"Enrollments_cont\"] / full[\"Clicks_cont\"]\n",
    "cont_y = full[\"Enrollments_exp\"] / full[\"Clicks_exp\"]\n",
    "full[\"GC\"] = np.where(cont_x < cont_y, 1, 0)\n",
    "# full.GC\n",
    "# build a column for netconversion \n",
    "cont_a = full[\"Payments_cont\"] / full[\"Clicks_cont\"]\n",
    "cont_b = full[\"Payments_exp\"] / full[\"Clicks_exp\"]\n",
    "full[\"NC\"] = np.where(cont_a < cont_b, 1, 0)\n",
    "# calculate the count \n",
    "GC_1 = full.GC[full[\"GC\"] == 1].count()\n",
    "NC_1 = full.NC[full[\"NC\"] == 1].count()\n",
    "n = full.GC.count()\n",
    "print(\"No. of cases for GC:\",GC_1,'\\n',\n",
    "      \"No. of cases for NC:\",NC_1,'\\n',\n",
    "      \"No. of total cases\",n)"
   ]
  },
  {
   "cell_type": "markdown",
   "id": "23ebf25b-24c1-47e6-a799-4cd138f5a5c3",
   "metadata": {},
   "source": [
    "### Sign Test"
   ]
  },
  {
   "cell_type": "code",
   "execution_count": 41,
   "id": "9b4ab9ce-3cc2-4e8a-9a8f-26060c9f963e",
   "metadata": {},
   "outputs": [],
   "source": [
    "# build a funciton for binominal probability \n",
    "def get_prob(x,n):\n",
    "    p= round(mt.factorial(n)/(mt.factorial(x)* mt.factorial(n-x))*0.5**x*0.5**(n-x),4)\n",
    "    return p\n",
    "#next a function to compute the pvalue from probabilities of maximum x\n",
    "def get_2tail_pvalue(x,n):\n",
    "    p = 0\n",
    "    for i in range(0, x+1):\n",
    "        p = p + get_prob (i, n)\n",
    "    return 2 * p\n",
    "        "
   ]
  },
  {
   "cell_type": "code",
   "execution_count": 42,
   "id": "0dd312cf-22b1-4f8c-9cea-f4d44e607752",
   "metadata": {},
   "outputs": [
    {
     "name": "stdout",
     "output_type": "stream",
     "text": [
      "GC Change : 0.0026000000000000003\n",
      "NC Change : 0.6774\n"
     ]
    }
   ],
   "source": [
    "GC_change = get_2tail_pvalue(GC_1, n)\n",
    "print(\"GC Change :\", GC_change)\n",
    "NC_change = get_2tail_pvalue(NC_1, n)\n",
    "print(\"NC Change :\", NC_change)"
   ]
  },
  {
   "cell_type": "markdown",
   "id": "3e9e2dfb-717d-4929-843f-a2bc0886bba8",
   "metadata": {},
   "source": [
    "The change in Gross conversion was significant, while the change in Net conversion was not."
   ]
  },
  {
   "cell_type": "markdown",
   "id": "4d7a9585-bc14-40d1-9686-6caa908cd2dd",
   "metadata": {},
   "source": [
    "## Conclusion\n",
    "\n",
    "Our analysis revealed a statistically and practically significant decrease in Gross Conversion, indicating that fewer students enrolled in the course after implementing the filter. However, we observed no significant difference in Net Conversion, meaning that the reduction in enrollments did not lead to an increase in the number of students who stayed beyond the 14-day free trial period to trigger payment.\n",
    "\n",
    "Given these findings, it is clear that the experiment did not achieve its intended goal of increasing the fraction of paying users. The reduction in Gross Conversion without a corresponding increase in Net Conversion suggests that the filter discouraged potential students from enrolling without improving retention of those who did.\n",
    "\n",
    "Based on these results, I recommend not launching this change. While it may have affected Gross Conversion, it did not have the desired impact on Net Conversion. \n"
   ]
  }
 ],
 "metadata": {
  "kernelspec": {
   "display_name": "Python 3 (ipykernel)",
   "language": "python",
   "name": "python3"
  },
  "language_info": {
   "codemirror_mode": {
    "name": "ipython",
    "version": 3
   },
   "file_extension": ".py",
   "mimetype": "text/x-python",
   "name": "python",
   "nbconvert_exporter": "python",
   "pygments_lexer": "ipython3",
   "version": "3.9.13"
  }
 },
 "nbformat": 4,
 "nbformat_minor": 5
}
